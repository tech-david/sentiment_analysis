{
 "cells": [
  {
   "cell_type": "markdown",
   "id": "ec9ae96e",
   "metadata": {},
   "source": [
    "## Installing Dependencies"
   ]
  },
  {
   "cell_type": "code",
   "execution_count": 3,
   "id": "e0ebb259",
   "metadata": {},
   "outputs": [
    {
     "name": "stdout",
     "output_type": "stream",
     "text": [
      "Requirement already satisfied: scikit-learn in c:\\users\\david\\anaconda3\\lib\\site-packages (1.0.2)\n",
      "Collecting scikit-learn\n",
      "  Using cached scikit_learn-1.2.0-cp39-cp39-win_amd64.whl (8.3 MB)\n",
      "Requirement already satisfied: scipy in c:\\users\\david\\anaconda3\\lib\\site-packages (1.7.3)\n",
      "Collecting scipy\n",
      "  Using cached scipy-1.9.3-cp39-cp39-win_amd64.whl (40.2 MB)\n",
      "Requirement already satisfied: matplotlib in c:\\users\\david\\anaconda3\\lib\\site-packages (3.5.1)\n",
      "Collecting matplotlib\n",
      "  Using cached matplotlib-3.6.2-cp39-cp39-win_amd64.whl (7.2 MB)\n",
      "Collecting wordcloud\n",
      "  Using cached wordcloud-1.8.2.2-cp39-cp39-win_amd64.whl (153 kB)\n",
      "Requirement already satisfied: nltk in c:\\users\\david\\anaconda3\\lib\\site-packages (3.7)\n",
      "Collecting nltk\n",
      "  Using cached nltk-3.8-py3-none-any.whl (1.5 MB)\n",
      "Requirement already satisfied: numpy in c:\\users\\david\\anaconda3\\lib\\site-packages (1.24.1)\n",
      "Requirement already satisfied: threadpoolctl>=2.0.0 in c:\\users\\david\\anaconda3\\lib\\site-packages (from scikit-learn) (2.2.0)\n",
      "Collecting joblib>=1.1.1\n",
      "  Using cached joblib-1.2.0-py3-none-any.whl (297 kB)\n",
      "Requirement already satisfied: kiwisolver>=1.0.1 in c:\\users\\david\\anaconda3\\lib\\site-packages (from matplotlib) (1.3.2)\n",
      "Requirement already satisfied: python-dateutil>=2.7 in c:\\users\\david\\anaconda3\\lib\\site-packages (from matplotlib) (2.8.2)\n",
      "Requirement already satisfied: pillow>=6.2.0 in c:\\users\\david\\anaconda3\\lib\\site-packages (from matplotlib) (9.0.1)\n",
      "Requirement already satisfied: fonttools>=4.22.0 in c:\\users\\david\\anaconda3\\lib\\site-packages (from matplotlib) (4.25.0)\n",
      "Requirement already satisfied: pyparsing>=2.2.1 in c:\\users\\david\\anaconda3\\lib\\site-packages (from matplotlib) (3.0.4)\n",
      "Collecting contourpy>=1.0.1\n",
      "  Using cached contourpy-1.0.6-cp39-cp39-win_amd64.whl (161 kB)\n",
      "Requirement already satisfied: cycler>=0.10 in c:\\users\\david\\anaconda3\\lib\\site-packages (from matplotlib) (0.11.0)\n",
      "Requirement already satisfied: packaging>=20.0 in c:\\users\\david\\anaconda3\\lib\\site-packages (from matplotlib) (21.3)\n",
      "Requirement already satisfied: click in c:\\users\\david\\anaconda3\\lib\\site-packages (from nltk) (8.0.4)\n",
      "Requirement already satisfied: tqdm in c:\\users\\david\\anaconda3\\lib\\site-packages (from nltk) (4.64.0)\n",
      "Requirement already satisfied: regex>=2021.8.3 in c:\\users\\david\\anaconda3\\lib\\site-packages (from nltk) (2022.3.15)\n",
      "Requirement already satisfied: six>=1.5 in c:\\users\\david\\anaconda3\\lib\\site-packages (from python-dateutil>=2.7->matplotlib) (1.16.0)\n",
      "Requirement already satisfied: colorama in c:\\users\\david\\anaconda3\\lib\\site-packages (from click->nltk) (0.4.4)\n",
      "Installing collected packages: contourpy, scipy, matplotlib, joblib, wordcloud, scikit-learn, nltk\n",
      "Successfully installed contourpy-1.0.6 joblib-1.2.0 matplotlib-3.6.2 nltk-3.8 scikit-learn-1.2.0 scipy-1.9.3 wordcloud-1.8.2.2\n",
      "Note: you may need to restart the kernel to use updated packages.\n"
     ]
    },
    {
     "name": "stderr",
     "output_type": "stream",
     "text": [
      "  WARNING: The script wordcloud_cli.exe is installed in 'C:\\Users\\David\\AppData\\Roaming\\Python\\Python39\\Scripts' which is not on PATH.\n",
      "  Consider adding this directory to PATH or, if you prefer to suppress this warning, use --no-warn-script-location.\n",
      "  WARNING: The script nltk.exe is installed in 'C:\\Users\\David\\AppData\\Roaming\\Python\\Python39\\Scripts' which is not on PATH.\n",
      "  Consider adding this directory to PATH or, if you prefer to suppress this warning, use --no-warn-script-location.\n"
     ]
    }
   ],
   "source": [
    "# pip install --user -U scikit-learn scipy matplotlib wordcloud nltk numpy"
   ]
  },
  {
   "cell_type": "markdown",
   "id": "60cf36dd",
   "metadata": {},
   "source": [
    "## Import Dependencies"
   ]
  },
  {
   "cell_type": "code",
   "execution_count": 3,
   "id": "f36a485a",
   "metadata": {},
   "outputs": [
    {
     "name": "stderr",
     "output_type": "stream",
     "text": [
      "[nltk_data] Downloading package wordnet to\n",
      "[nltk_data]     C:\\Users\\David\\AppData\\Roaming\\nltk_data...\n",
      "[nltk_data] Downloading package omw-1.4 to\n",
      "[nltk_data]     C:\\Users\\David\\AppData\\Roaming\\nltk_data...\n"
     ]
    },
    {
     "data": {
      "text/plain": [
       "True"
      ]
     },
     "execution_count": 3,
     "metadata": {},
     "output_type": "execute_result"
    }
   ],
   "source": [
    "# utilities\n",
    "import re\n",
    "import pickle\n",
    "import numpy as np\n",
    "import pandas as pd\n",
    "\n",
    "# visuals\n",
    "import seaborn as sns\n",
    "from wordcloud import WordCloud\n",
    "import matplotlib.pyplot as plt\n",
    "\n",
    "# natural language toolkit\n",
    "import nltk\n",
    "from nltk.stem import WordNetLemmatizer\n",
    "\n",
    "# sklean\n",
    "from sklearn.svm import LinearSVC\n",
    "from sklearn.linear_model import LogisticRegression\n",
    "from sklearn.model_selection import train_test_split\n",
    "from sklearn.feature_extraction.text import TfidfVectorizer\n",
    "from sklearn.metrics import confusion_matrix, classification_report\n",
    "# one time downloads\n",
    "#nltk.download('wordnet')\n",
    "#nltk.download('omw-1.4')"
   ]
  },
  {
   "cell_type": "markdown",
   "id": "f2d81679",
   "metadata": {},
   "source": [
    "## Import Dataset\n",
    "The dataset being used is a sample Twitter dataset containing tweets extracted using **Twitter API**.  The tweets have been annotated **(0 = Negative, 4 = Positive)** and can be used to detect sentiment.  \n",
    "**It contains the following 6 fields:**<br>\n",
    "1. **sentiment**: Polarity of tweet (0 = negative, 4 = positive)\n",
    "2. **id**'s: the id of the tweet\n",
    "3. **date**: date of tweet in UTC\n",
    "4. **flag**: the query (lyx).  If there is no query, the value is NO_QUERY\n",
    "5. **user**: twitter handle of op\n",
    "6. **text**: text of the tweet\n",
    "\n",
    "\n",
    "We only require the **sentiment** and **text** fields, rest are discarded.  \n",
    "We will also change **sentiment** field to new values where **0=negative, 1=positive**"
   ]
  },
  {
   "cell_type": "code",
   "execution_count": 5,
   "id": "77ef6843",
   "metadata": {},
   "outputs": [
    {
     "data": {
      "image/png": "[encoded data removed]",
      "text/plain": [
       "<Figure size 432x288 with 1 Axes>"
      ]
     },
     "metadata": {
      "needs_background": "light"
     },
     "output_type": "display_data"
    }
   ],
   "source": [
    "# Column Names\n",
    "DATASET_COLUMNS = ['sentiment', 'id', 'date', 'flag', 'user', 'text']\n",
    "DATASET_ENCODING = \"ISO-8859-1\"\n",
    "dataset = pd.read_csv('../Sentiment_Analysis_Tweets_Data.csv',\n",
    "                     encoding=DATASET_ENCODING,\n",
    "                     names=DATASET_COLUMNS)\n",
    "# Drop columns\n",
    "dataset = dataset[['sentiment', 'text']]\n",
    "# Replace sentiment values\n",
    "dataset['sentiment'] = dataset['sentiment'].replace(4,1)\n",
    "\n",
    "# Plot distribution\n",
    "ax = dataset.groupby('sentiment').count().plot(kind='bar',\n",
    "                                              title='Data Distribution',\n",
    "                                              legend=False)\n",
    "ax.set_xticklabels(['Negative','Positive'],\n",
    "                  rotation=0)\n",
    "\n",
    "# Sort data in lists\n",
    "text, sentiment = list(dataset['text']), list(dataset['sentiment'])"
   ]
  },
  {
   "cell_type": "markdown",
   "id": "07f4a5da",
   "metadata": {},
   "source": [
    "## Preprocessing\n",
    "**Steps taken are as follow**\n",
    "1. **Lower Casing**: Convert each text to lowercase\n",
    "2. **Replace URLs**: Link protocols are replaced with URL\n",
    "3. **Replace Emojis**: Replace emojis using dictionary to text meaning such as :) to \"EMOJIsmile\"\n",
    "4. **Replace Username**: Replace handles to \"USER\"\n",
    "5. **Replace Non-Alphabets**: Replace characters except digits and alphabets with a space\n",
    "6. **Remove Consecutive Lettrs**: 3 or more consecutive letters are replaced with 2 letters e.g. \"heeeeyyyy\" to \"heeyy\"\n",
    "7. **Remove Short Words**: Words with length less than 2 are removed\n",
    "8. **Remove Stopwords**: Stopwords are words that do not add meaning and can be ignored e.g. \"the\", \"he\", \"have\"\n",
    "9. **Lemmatizing**: Lemmatization is process of converting word to base form e.g. \"great\" to \"good\""
   ]
  },
  {
   "cell_type": "code",
   "execution_count": 7,
   "id": "d2ff7350",
   "metadata": {},
   "outputs": [],
   "source": [
    "# Define dictionary for emojis\n",
    "emojis = {':)':'smile',':-)':'smile',';d':'wink',':-E':'vampire',':(':'sad',':-(':'sad',':-<':'sad',':p':'raspberry',\n",
    "          ':O':'surprised',':-@':'shocked',':@':'shocked',':-$':'confused',':\\\\':'annoyed',':#':'mute',':X':'mute',\n",
    "          ':^)':'smile',':-&':'confused','$_$':'greedy','@@':'eyeroll',':-!':'confused',':-D':'smile',':-0':'yell',\n",
    "          'O.o':'confused','<(-_-)>':'robot','d[-_-]b':'dj',\":'-)\":'sadsmile',';)':'wink',';-)':'wink','O:-)':'smile',\n",
    "          'O*-)':'angel','(:-D':'gossip','=^.^=':'cat'}\n",
    "\n",
    "# Define set for stopwords in English\n",
    "stopwordlist = ['a','about','above','after','again','ain','all','am','an','and','any','are','as','at','be','because',\n",
    "                'been','before','being','below','between','both','by','can','d','did','do','does','doing','down','during',\n",
    "                'each','few','for','from','further','had','has','have','having','he','her','here','into','is','it','its',\n",
    "                'itself','just','ll','m','ma','me','more','most','my','myself','now','o','of','on','once','only','or','other',\n",
    "                'our','ours','ourselves','out','own','re','s','same','she',\"shes\",'should',\"shouldve\",'so','some','such','t',\n",
    "                'than','that',\"thatll\",'the','their','theirs','them','themselves','then','there','these','they','this','those',\n",
    "                'through','to','too','under','until','up','ve','very','was','we','were','what','when','where','which','while',\n",
    "                'who','whom','why','will','with','won','y','you',\"youd\",\"youll\",\"youre\",\"youve\",'your','yours','yourself',\n",
    "                'yourselves']"
   ]
  },
  {
   "cell_type": "code",
   "execution_count": 13,
   "id": "702480e9",
   "metadata": {},
   "outputs": [],
   "source": [
    "def preprocess(textdata):\n",
    "    processedText = []\n",
    "    \n",
    "    # Create Lemmatizer and Stemmer\n",
    "    wordLemm = WordNetLemmatizer()\n",
    "    \n",
    "    # Define regest patterns\n",
    "    urlPattern = r\"((http://)[^ ]*|(https://)[^ ]*|(www\\.)[^ ])*\"\n",
    "    userPattern = '@[^\\s]+'\n",
    "    alphaPattern = \"[^a-zA-Z0-9]\"\n",
    "    sequencePattern = r\"(.)\\1\\1+\"\n",
    "    seqReplacePattern = r\"\\1\\1\"\n",
    "    \n",
    "    for tweet in textdata:\n",
    "        tweet = tweet.lower()\n",
    "        \n",
    "        # Replace URLs with \"URL\"\n",
    "        tweet = re.sub(urlPattern, ' URL', tweet)\n",
    "        # Replace emojis\n",
    "        for emoji in emojis.keys():\n",
    "            tweet = tweet.replace(emoji, \"EMOJI\" + emojis[emoji])\n",
    "        # Replace usernames with \"USER\"\n",
    "        tweet = re.sub(userPattern, ' USER', tweet)\n",
    "        # Replace all non alphabets\n",
    "        tweet = re.sub(alphaPattern, \" \", tweet)\n",
    "        # Replace 3 or more consecutive letters with 2 lettters\n",
    "        tweet = re.sub(sequencePattern, seqReplacePattern, tweet)\n",
    "        \n",
    "        tweetwords = ''\n",
    "        for word in tweet.split():\n",
    "            # Check for stopwords if not in stopwordlist\n",
    "            if len(word)>1:\n",
    "                # Lemmatize\n",
    "                word = wordLemm.lemmatize(word)\n",
    "                tweetwords += (word+' ')\n",
    "                \n",
    "        processedText.append(tweetwords)\n",
    "        \n",
    "    return processedText\n",
    "    "
   ]
  },
  {
   "cell_type": "code",
   "execution_count": null,
   "id": "84099f13",
   "metadata": {},
   "outputs": [],
   "source": [
    "# Recordig process time\n",
    "import time\n",
    "t = time.time()\n",
    "processedtext = preprocess(text)\n",
    "print(f'Text Preprocessing complete.')\n",
    "print(f'Time taken: {round(time.time()-t)} seconds')"
   ]
  },
  {
   "cell_type": "code",
   "execution_count": null,
   "id": "519849ee",
   "metadata": {},
   "outputs": [],
   "source": []
  }
 ],
 "metadata": {
  "kernelspec": {
   "display_name": "Python 3 (ipykernel)",
   "language": "python",
   "name": "python3"
  },
  "language_info": {
   "codemirror_mode": {
    "name": "ipython",
    "version": 3
   },
   "file_extension": ".py",
   "mimetype": "text/x-python",
   "name": "python",
   "nbconvert_exporter": "python",
   "pygments_lexer": "ipython3",
   "version": "3.9.12"
  }
 },
 "nbformat": 4,
 "nbformat_minor": 5
}
